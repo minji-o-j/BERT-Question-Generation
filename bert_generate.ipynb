{
 "cells": [
  {
   "cell_type": "code",
   "execution_count": 38,
   "metadata": {},
   "outputs": [],
   "source": [
    "from transformers import (AdamW, get_linear_schedule_with_warmup, AutoModelForMaskedLM, AutoConfig, AutoTokenizer)\n",
    "from torch.utils.data import DataLoader\n",
    "from tqdm import tqdm\n",
    "import torch\n",
    "import json"
   ]
  },
  {
   "cell_type": "code",
   "execution_count": 2,
   "metadata": {},
   "outputs": [
    {
     "name": "stderr",
     "output_type": "stream",
     "text": [
      "Some weights of the model checkpoint at bert-base-uncased were not used when initializing BertForMaskedLM: ['cls.seq_relationship.weight', 'cls.seq_relationship.bias']\n",
      "- This IS expected if you are initializing BertForMaskedLM from the checkpoint of a model trained on another task or with another architecture (e.g. initializing a BertForSequenceClassification model from a BertForPreTraining model).\n",
      "- This IS NOT expected if you are initializing BertForMaskedLM from the checkpoint of a model that you expect to be exactly identical (initializing a BertForSequenceClassification model from a BertForSequenceClassification model).\n"
     ]
    }
   ],
   "source": [
    "# load pretrained-model\n",
    "model_name = \"bert-base-uncased\"\n",
    "model = AutoModelForMaskedLM.from_pretrained(model_name)\n",
    "tokenizer = AutoTokenizer.from_pretrained(model_name)\n",
    "device = torch.device(\"cuda\" if torch.cuda.is_available() else \"cpu\")\n",
    "\n",
    "#model.to(device)"
   ]
  },
  {
   "cell_type": "code",
   "execution_count": 4,
   "metadata": {},
   "outputs": [
    {
     "name": "stdout",
     "output_type": "stream",
     "text": [
      "['[CLS]', 'she', 'goes', 'school', 'by', '[', 'h', '##l', ']', 'bus', '[', '/', 'h', '##l', ']', '[SEP]']\n"
     ]
    }
   ],
   "source": [
    "# tokenizer test\n",
    "input_text = \"[CLS] She goes school by [HL] bus [/HL] [SEP]\"\n",
    "tokenized_text = tokenizer.tokenize(input_text,add_special_tokens=False)\n",
    "print(tokenized_text)"
   ]
  },
  {
   "cell_type": "code",
   "execution_count": 5,
   "metadata": {},
   "outputs": [
    {
     "name": "stdout",
     "output_type": "stream",
     "text": [
      "['[CLS]', 'she', 'goes', 'school', 'by', '[HL]', 'bus', '[/HL]', '[SEP]']\n",
      "Embedding(30522, 768, padding_idx=0)\n",
      "Embedding(30524, 768)\n"
     ]
    }
   ],
   "source": [
    "# add [HL], [/HL] token \n",
    "added_token_num = tokenizer.add_special_tokens({\"additional_special_tokens\":[\"[HL]\",\"[/HL]\"]})\n",
    "tokenized_text = tokenizer.tokenize(input_text,add_special_tokens=False)\n",
    "print(tokenized_text)\n",
    "\n",
    "# add token number\n",
    "print(model.get_input_embeddings())\n",
    "model.resize_token_embeddings(tokenizer.vocab_size + added_token_num)\n",
    "print(model.get_input_embeddings()) # 2개 증가 된 것을 확인 가능함"
   ]
  },
  {
   "cell_type": "code",
   "execution_count": 6,
   "metadata": {},
   "outputs": [],
   "source": [
    "# load data\n",
    "file_path = \"./data/squad_nqg/test.json\"\n",
    "with open(file_path, 'r') as file:\n",
    "    data = json.load(file)"
   ]
  },
  {
   "cell_type": "code",
   "execution_count": 41,
   "metadata": {},
   "outputs": [
    {
     "name": "stdout",
     "output_type": "stream",
     "text": [
      "{'context': 'Architecturally, the school has a Catholic character. Atop the Main Building\\'s gold dome is a golden statue of the Virgin Mary. Immediately in front of the Main Building and facing it, is a copper statue of Christ with arms upraised with the legend \"Venite Ad Me Omnes\". Next to the Main Building is the Basilica of the Sacred Heart. Immediately behind the basilica is the Grotto, a Marian place of prayer and reflection. It is a replica of the grotto at Lourdes, France where the Virgin Mary reputedly appeared to Saint Bernadette Soubirous in 1858. At the end of the main drive (and in a direct line that connects through 3 statues and the Gold Dome), is a simple, modern stone statue of Mary.', 'question': 'To whom did the Virgin Mary allegedly appear in 1858 in Lourdes France?', 'answers': [{'answer_start': 515, 'text': 'Saint Bernadette Soubirous'}]}\n"
     ]
    }
   ],
   "source": [
    "# sampling data\n",
    "print(data[0])\n",
    "\n",
    "input_text = data[0]['context']\n",
    "target_text = data[0]['question']\n",
    "\n",
    "# input_text = \"[CLS] Jane's favorite food is [HL] chicken [/HL] [SEP]\"\n",
    "# target_text = \"What is Jane's favorite food\""
   ]
  },
  {
   "cell_type": "code",
   "execution_count": 56,
   "metadata": {},
   "outputs": [
    {
     "name": "stdout",
     "output_type": "stream",
     "text": [
      "[CLS] Architecturally, the school has a Catholic character. Atop the Main Building's gold dome is a golden statue of the Virgin Mary. Immediately in front of the Main Building and facing it, is a copper statue of Christ with arms upraised with the legend \"Venite Ad Me Omnes\". Next to the Main Building is the Basilica of the Sacred Heart. Immediately behind the basilica is the Grotto, a Marian place of prayer and reflection. It is a replica of the grotto at Lourdes, France where the Virgin Mary reputedly appeared to  [HL] Saint Bernadette Soubirous [/HL]  in 1858. At the end of the main drive (and in a direct line that connects through 3 statues and the Gold Dome), is a simple, modern stone statue of Mary. [SEP]\n"
     ]
    }
   ],
   "source": [
    "# add [HL], [/HL]\n",
    "\n",
    "cls_token = tokenizer.cls_token\n",
    "sep_token = tokenizer.sep_token\n",
    "mask_token = tokenizer.mask_token\n",
    "\n",
    "\n",
    "answer_start = data[0]['answers'][0]['answer_start']\n",
    "answer = data[0]['answers'][0]['text']\n",
    "\n",
    "add_hl = f\"{cls_token} {data[0]['context'][:answer_start]} [HL] {data[0]['context'][answer_start:answer_start+len(answer)]} [/HL] {data[0]['context'][answer_start+len(answer):]} {sep_token}\"\n",
    "print(add_hl)"
   ]
  },
  {
   "cell_type": "code",
   "execution_count": 34,
   "metadata": {},
   "outputs": [
    {
     "name": "stdout",
     "output_type": "stream",
     "text": [
      "['[CLS]', 'jane', \"'\", 's', 'favorite', 'food', 'is', '[HL]', 'chicken', '[/HL]', '[SEP]', '[MASK]'] [-1, -1, -1, -1, -1, -1, -1, -1, -1, -1, -1, 2054] 2054\n",
      "12 1\n",
      "['[CLS]', 'jane', \"'\", 's', 'favorite', 'food', 'is', '[HL]', 'chicken', '[/HL]', '[SEP]', 'what', '[MASK]'] [-1, -1, -1, -1, -1, -1, -1, -1, -1, -1, -1, -1, 2003] 2003\n",
      "13 1\n",
      "['[CLS]', 'jane', \"'\", 's', 'favorite', 'food', 'is', '[HL]', 'chicken', '[/HL]', '[SEP]', 'what', 'is', '[MASK]'] [-1, -1, -1, -1, -1, -1, -1, -1, -1, -1, -1, -1, -1, 4869] 4869\n",
      "14 1\n",
      "['[CLS]', 'jane', \"'\", 's', 'favorite', 'food', 'is', '[HL]', 'chicken', '[/HL]', '[SEP]', 'what', 'is', 'jane', '[MASK]'] [-1, -1, -1, -1, -1, -1, -1, -1, -1, -1, -1, -1, -1, -1, 1005] 1005\n",
      "15 1\n",
      "['[CLS]', 'jane', \"'\", 's', 'favorite', 'food', 'is', '[HL]', 'chicken', '[/HL]', '[SEP]', 'what', 'is', 'jane', \"'\", '[MASK]'] [-1, -1, -1, -1, -1, -1, -1, -1, -1, -1, -1, -1, -1, -1, -1, 1055] 1055\n",
      "16 1\n",
      "['[CLS]', 'jane', \"'\", 's', 'favorite', 'food', 'is', '[HL]', 'chicken', '[/HL]', '[SEP]', 'what', 'is', 'jane', \"'\", 's', '[MASK]'] [-1, -1, -1, -1, -1, -1, -1, -1, -1, -1, -1, -1, -1, -1, -1, -1, 5440] 5440\n",
      "17 1\n",
      "['[CLS]', 'jane', \"'\", 's', 'favorite', 'food', 'is', '[HL]', 'chicken', '[/HL]', '[SEP]', 'what', 'is', 'jane', \"'\", 's', 'favorite', '[MASK]'] [-1, -1, -1, -1, -1, -1, -1, -1, -1, -1, -1, -1, -1, -1, -1, -1, -1, 2833] 2833\n",
      "18 1\n",
      "['[CLS]', 'jane', \"'\", 's', 'favorite', 'food', 'is', '[HL]', 'chicken', '[/HL]', '[SEP]', 'what', 'is', 'jane', \"'\", 's', 'favorite', 'food', '[MASK]'] [-1, -1, -1, -1, -1, -1, -1, -1, -1, -1, -1, -1, -1, -1, -1, -1, -1, -1, 102] 102\n",
      "19 1\n"
     ]
    }
   ],
   "source": [
    "cls_token = tokenizer.cls_token\n",
    "sep_token = tokenizer.sep_token\n",
    "mask_token = tokenizer.mask_token\n",
    "\n",
    "example_pair = dict()\n",
    "\n",
    "\n",
    "for d in data:\n",
    "  input_text = d['context']\n",
    "  target_text = d['question']\n",
    "  \n",
    "  tokenized_target = tokenizer.tokenize(target_text) # tokenize question\n",
    "for i in range(0,len(tokenized_target)+1):\n",
    "      # tokenized\n",
    "      tokenized_text = tokenizer.tokenize(input_text)\n",
    "      tokenized_text.extend(tokenized_target[:i]) # tokenized_context + tokenized_question[:i]\n",
    "      tokenized_text.append('[MASK]') # tokenized_context + tokenized_question[:i] + [MASK]\n",
    "      indexed_tokens = tokenizer.convert_tokens_to_ids(tokenized_text)\n",
    "      tokens_tensor = torch.tensor([indexed_tokens]).to(device)\n",
    "    \n",
    "      # loss\n",
    "      loss_ids = [-1] * (len(tokenizer.convert_tokens_to_ids(tokenized_text))-1)\n",
    "\n",
    "      if i == len(tokenized_target):\n",
    "          loss_ids.append(tokenizer.convert_tokens_to_ids(tokenizer.tokenize('[SEP]'))[0])\n",
    "      else:\n",
    "          loss_ids.append(tokenizer.convert_tokens_to_ids(tokenized_target[i]))\n",
    "\n",
    "      loss_tensors = torch.tensor([loss_ids]).to(device)\n",
    "  \n",
    "      example_pair[tokens_tensor] = loss_tensors\n",
    "      # print(tokenized_text,loss_ids,loss_ids[-1])\n",
    "      # print(len(indexed_tokens),len(loss_tensors))"
   ]
  },
  {
   "cell_type": "code",
   "execution_count": null,
   "metadata": {},
   "outputs": [],
   "source": []
  }
 ],
 "metadata": {
  "interpreter": {
   "hash": "beb60ce440686e9521c933e15e80d2dc682d823aa040f9c343cc6f5ccd198a32"
  },
  "kernelspec": {
   "display_name": "Python 3.8.12 ('py38mj')",
   "language": "python",
   "name": "python3"
  },
  "language_info": {
   "codemirror_mode": {
    "name": "ipython",
    "version": 3
   },
   "file_extension": ".py",
   "mimetype": "text/x-python",
   "name": "python",
   "nbconvert_exporter": "python",
   "pygments_lexer": "ipython3",
   "version": "3.8.12"
  },
  "orig_nbformat": 4
 },
 "nbformat": 4,
 "nbformat_minor": 2
}
